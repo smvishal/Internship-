{
 "cells": [
  {
   "cell_type": "code",
   "execution_count": 6,
   "id": "913dfa26",
   "metadata": {},
   "outputs": [
    {
     "name": "stdout",
     "output_type": "stream",
     "text": [
      "Enter a number:10\n",
      "Factorial is : 3628800\n"
     ]
    }
   ],
   "source": [
    "#Q11 FACTORIAL NUMBER\n",
    "i = int(input (\"Enter a number:\"))\n",
    "fac = 1\n",
    "while (i>0):\n",
    "    fac=fac*i\n",
    "    i=i-1\n",
    "print(\"Factorial is :\",fac)"
   ]
  },
  {
   "cell_type": "code",
   "execution_count": 21,
   "id": "72595a33",
   "metadata": {},
   "outputs": [
    {
     "name": "stdout",
     "output_type": "stream",
     "text": [
      "Enter any number :3628800\n",
      "composite number\n"
     ]
    }
   ],
   "source": [
    "#Q12 PRIME OR COMPOSITE\n",
    "a = int(input(\"Enter any number :\"))\n",
    "times = 0\n",
    "i = 1\n",
    "while(i<=a):\n",
    "    if(a%i==0):\n",
    "        times=times+1\n",
    "    i=i+1\n",
    "if(times==2):\n",
    "    print(\"Prime number\")\n",
    "else:\n",
    "    print(\"composite number\")\n"
   ]
  },
  {
   "cell_type": "code",
   "execution_count": 22,
   "id": "6a5b0c8f",
   "metadata": {},
   "outputs": [
    {
     "name": "stdout",
     "output_type": "stream",
     "text": [
      "Enter any number :13\n",
      "Prime number\n"
     ]
    }
   ],
   "source": [
    "a = int(input(\"Enter any number :\"))\n",
    "times = 0\n",
    "i = 1\n",
    "while(i<=a):\n",
    "    if(a%i==0):\n",
    "        times=times+1\n",
    "    i=i+1\n",
    "if(times==2):\n",
    "    print(\"Prime number\")\n",
    "else:\n",
    "    print(\"composite number\")"
   ]
  },
  {
   "cell_type": "code",
   "execution_count": 26,
   "id": "084eebaf",
   "metadata": {},
   "outputs": [
    {
     "name": "stdout",
     "output_type": "stream",
     "text": [
      "Yes\n"
     ]
    }
   ],
   "source": [
    "#Q13 string is palindrome or notP\n",
    "def isPalindrome(s):\n",
    "    return s == s[::-1]\n",
    "\n",
    "s = \"dad\"\n",
    "ans = isPalindrome(s)\n",
    "\n",
    "if ans:\n",
    "    print(\"Yes\")\n",
    "else:\n",
    "    print(\"No\")\n"
   ]
  },
  {
   "cell_type": "code",
   "execution_count": 27,
   "id": "4e51a864",
   "metadata": {},
   "outputs": [
    {
     "name": "stdout",
     "output_type": "stream",
     "text": [
      "Yes\n"
     ]
    }
   ],
   "source": [
    "#Q13 string is palindrome or notP\n",
    "def isPalindrome(s):\n",
    "    return s == s[::-1]\n",
    "\n",
    "s = \"mom\"\n",
    "ans = isPalindrome(s)\n",
    "\n",
    "if ans:\n",
    "    print(\"Yes\")\n",
    "else:\n",
    "    print(\"No\")\n"
   ]
  },
  {
   "cell_type": "code",
   "execution_count": 40,
   "id": "e35cda5e",
   "metadata": {},
   "outputs": [
    {
     "name": "stdout",
     "output_type": "stream",
     "text": [
      "Enter the base of Triangle:6\n",
      "Enter the height of Triangle:7\n",
      "hypo_side of the triangle is 9.219544457292887\n"
     ]
    }
   ],
   "source": [
    "#Ans14\n",
    "from math import sqrt\n",
    "base=float(input(\"Enter the base of Triangle:\"))\n",
    "height=float(input(\"Enter the height of Triangle:\"))\n",
    "print(\"hypo_side of the triangle is\",sqrt(base**2 + height**2))"
   ]
  },
  {
   "cell_type": "code",
   "execution_count": 34,
   "id": "c4da7d51",
   "metadata": {},
   "outputs": [
    {
     "name": "stdout",
     "output_type": "stream",
     "text": [
      "Enter the string: 5500\n",
      "5,2\n",
      "0,2\n"
     ]
    }
   ],
   "source": [
    "#Ans15\n",
    "string=input(\"Enter the string: \")\n",
    "str1=list(string)\n",
    "strlist=[]\n",
    "for j in str1:\n",
    "    if j not in strlist:\n",
    "       strlist.append(j)\n",
    "       count=0\n",
    "       for i in range(len(str1)):\n",
    "         if  j==str1[i]:\n",
    "           count+=1\n",
    "       print(\"{},{}\".format(j,count))"
   ]
  },
  {
   "cell_type": "code",
   "execution_count": null,
   "id": "ff9c3274",
   "metadata": {},
   "outputs": [],
   "source": []
  },
  {
   "cell_type": "code",
   "execution_count": null,
   "id": "00bb501d",
   "metadata": {},
   "outputs": [],
   "source": []
  },
  {
   "cell_type": "code",
   "execution_count": null,
   "id": "84f38e5c",
   "metadata": {},
   "outputs": [],
   "source": []
  }
 ],
 "metadata": {
  "kernelspec": {
   "display_name": "Python 3 (ipykernel)",
   "language": "python",
   "name": "python3"
  },
  "language_info": {
   "codemirror_mode": {
    "name": "ipython",
    "version": 3
   },
   "file_extension": ".py",
   "mimetype": "text/x-python",
   "name": "python",
   "nbconvert_exporter": "python",
   "pygments_lexer": "ipython3",
   "version": "3.9.7"
  }
 },
 "nbformat": 4,
 "nbformat_minor": 5
}
